{
 "cells": [
  {
   "cell_type": "code",
   "execution_count": 2,
   "id": "941de1ab",
   "metadata": {},
   "outputs": [],
   "source": [
    "import numpy as np\n",
    "import pandas as pd\n",
    "from matplotlib import pyplot as plt\n",
    "import ipywidgets as widgets\n",
    "import plotly.express as px\n",
    "\n",
    "from sklearn.compose import ColumnTransformer\n",
    "from sklearn.neighbors import KNeighborsClassifier\n",
    "from sklearn.svm import SVC\n",
    "from sklearn.preprocessing import OneHotEncoder\n",
    "from sklearn.preprocessing import PowerTransformer\n",
    "from sklearn.ensemble import RandomForestClassifier, StackingClassifier\n",
    "from sklearn.linear_model import LogisticRegression\n",
    "from sklearn.metrics import confusion_matrix, accuracy_score, f1_score, precision_recall_curve, average_precision_score, \\\n",
    "    roc_auc_score, roc_curve, auc, recall_score, precision_score\n",
    "from sklearn.model_selection import train_test_split, cross_val_score, RandomizedSearchCV\n",
    "from sklearn.preprocessing import StandardScaler\n",
    "from sklearn.tree import DecisionTreeClassifier\n",
    "\n",
    "import seaborn as sns\n",
    "import scipy.stats\n",
    "from scipy import stats\n",
    "from imblearn.over_sampling import SMOTE\n",
    "from imblearn.under_sampling import TomekLinks\n",
    "from xgboost import XGBClassifier\n",
    "\n",
    "import time\n",
    "\n",
    "pd.set_option(\"display.max_columns\", None)\n",
    "\n",
    "database = pd.read_csv('../data/weatherAUS.csv')"
   ]
  },
  {
   "cell_type": "code",
   "execution_count": 4,
   "id": "db5049ae",
   "metadata": {},
   "outputs": [
    {
     "name": "stdout",
     "output_type": "stream",
     "text": [
      "Tractament del target (nulls)\n"
     ]
    },
    {
     "data": {
      "application/vnd.jupyter.widget-view+json": {
       "model_id": "39f97dd4aca54b478c6765e4e2735368",
       "version_major": 2,
       "version_minor": 0
      },
      "text/plain": [
       "ToggleButtons(description='Optios:', options=('No', 'Yes', 'Delete'), tooltips=('No', 'Yes', 'Delete'), value=…"
      ]
     },
     "metadata": {},
     "output_type": "display_data"
    }
   ],
   "source": [
    "targetNulls = widgets.ToggleButtons(\n",
    "    options=['No', 'Yes', 'Delete'],\n",
    "    description='Optios:',\n",
    "    disabled=False,\n",
    "    tooltips=['No', 'Yes', 'Delete']\n",
    ")\n",
    "print(\"Tractament del target (nulls)\")\n",
    "targetNulls"
   ]
  },
  {
   "cell_type": "code",
   "execution_count": 5,
   "id": "a030e8d1",
   "metadata": {},
   "outputs": [
    {
     "name": "stdout",
     "output_type": "stream",
     "text": [
      "Balanceig de les dades\n"
     ]
    },
    {
     "data": {
      "application/vnd.jupyter.widget-view+json": {
       "model_id": "5687df03f9584399ab28ca1631a56f86",
       "version_major": 2,
       "version_minor": 0
      },
      "text/plain": [
       "ToggleButtons(description='Optios:', options=('Oversampling', 'Oversampling Smote', 'Subsampling', 'None'), to…"
      ]
     },
     "metadata": {},
     "output_type": "display_data"
    }
   ],
   "source": [
    "balance = widgets.ToggleButtons(\n",
    "    options=['Oversampling', 'Oversampling Smote' ,'Subsampling','None'],\n",
    "    description='Optios:',\n",
    "    disabled=False,\n",
    "    tooltips=['Oversampling', 'Oversampling Smote' ,'Subsampling', 'None']\n",
    ")\n",
    "print(\"Balanceig de les dades\")\n",
    "balance"
   ]
  },
  {
   "cell_type": "code",
   "execution_count": 6,
   "id": "8013f3a2",
   "metadata": {},
   "outputs": [
    {
     "name": "stdout",
     "output_type": "stream",
     "text": [
      "Tractament de les dades continues\n"
     ]
    },
    {
     "data": {
      "application/vnd.jupyter.widget-view+json": {
       "model_id": "90f92ddae08f4ce29cb92884500f6f1a",
       "version_major": 2,
       "version_minor": 0
      },
      "text/plain": [
       "ToggleButtons(description='Optios:', options=('Mode', 'Median', 'Mean'), tooltips=('Mode', 'Median', 'Mean'), …"
      ]
     },
     "metadata": {},
     "output_type": "display_data"
    }
   ],
   "source": [
    "atributeNulls = widgets.ToggleButtons(\n",
    "    options=['Mode', 'Median', 'Mean'],\n",
    "    description='Optios:',\n",
    "    disabled=False,\n",
    "    tooltips=['Mode', 'Median', 'Mean']\n",
    ")\n",
    "print(\"Tractament de les dades continues\")\n",
    "display(atributeNulls)"
   ]
  },
  {
   "cell_type": "code",
   "execution_count": 7,
   "id": "cae6d35e",
   "metadata": {},
   "outputs": [
    {
     "ename": "ValueError",
     "evalue": "a must be greater than 0 unless no samples are taken",
     "output_type": "error",
     "traceback": [
      "\u001b[1;31m---------------------------------------------------------------------------\u001b[0m",
      "\u001b[1;31mValueError\u001b[0m                                Traceback (most recent call last)",
      "\u001b[1;32m<ipython-input-7-64dd5097fcac>\u001b[0m in \u001b[0;36m<module>\u001b[1;34m\u001b[0m\n\u001b[0;32m     17\u001b[0m     \u001b[0mdf_class_1\u001b[0m \u001b[1;33m=\u001b[0m \u001b[0mdatabase\u001b[0m\u001b[1;33m[\u001b[0m\u001b[0mdatabase\u001b[0m\u001b[1;33m[\u001b[0m\u001b[1;34m'RainTomorrow'\u001b[0m\u001b[1;33m]\u001b[0m \u001b[1;33m==\u001b[0m \u001b[1;34m\"Yes\"\u001b[0m\u001b[1;33m]\u001b[0m\u001b[1;33m\u001b[0m\u001b[1;33m\u001b[0m\u001b[0m\n\u001b[0;32m     18\u001b[0m \u001b[1;33m\u001b[0m\u001b[0m\n\u001b[1;32m---> 19\u001b[1;33m     \u001b[0mdf_class_1_over\u001b[0m \u001b[1;33m=\u001b[0m \u001b[0mdf_class_1\u001b[0m\u001b[1;33m.\u001b[0m\u001b[0msample\u001b[0m\u001b[1;33m(\u001b[0m\u001b[0mcount_class_0\u001b[0m\u001b[1;33m,\u001b[0m \u001b[0mreplace\u001b[0m\u001b[1;33m=\u001b[0m\u001b[1;32mTrue\u001b[0m\u001b[1;33m)\u001b[0m\u001b[1;33m\u001b[0m\u001b[1;33m\u001b[0m\u001b[0m\n\u001b[0m\u001b[0;32m     20\u001b[0m     \u001b[0mdatabase\u001b[0m \u001b[1;33m=\u001b[0m \u001b[0mpd\u001b[0m\u001b[1;33m.\u001b[0m\u001b[0mconcat\u001b[0m\u001b[1;33m(\u001b[0m\u001b[1;33m[\u001b[0m\u001b[0mdf_class_0\u001b[0m\u001b[1;33m,\u001b[0m \u001b[0mdf_class_1_over\u001b[0m\u001b[1;33m]\u001b[0m\u001b[1;33m,\u001b[0m \u001b[0maxis\u001b[0m\u001b[1;33m=\u001b[0m\u001b[1;36m0\u001b[0m\u001b[1;33m)\u001b[0m\u001b[1;33m\u001b[0m\u001b[1;33m\u001b[0m\u001b[0m\n\u001b[0;32m     21\u001b[0m \u001b[1;33m\u001b[0m\u001b[0m\n",
      "\u001b[1;32m~\\anaconda3\\lib\\site-packages\\pandas\\core\\generic.py\u001b[0m in \u001b[0;36msample\u001b[1;34m(self, n, frac, replace, weights, random_state, axis)\u001b[0m\n\u001b[0;32m   5348\u001b[0m             )\n\u001b[0;32m   5349\u001b[0m \u001b[1;33m\u001b[0m\u001b[0m\n\u001b[1;32m-> 5350\u001b[1;33m         \u001b[0mlocs\u001b[0m \u001b[1;33m=\u001b[0m \u001b[0mrs\u001b[0m\u001b[1;33m.\u001b[0m\u001b[0mchoice\u001b[0m\u001b[1;33m(\u001b[0m\u001b[0maxis_length\u001b[0m\u001b[1;33m,\u001b[0m \u001b[0msize\u001b[0m\u001b[1;33m=\u001b[0m\u001b[0mn\u001b[0m\u001b[1;33m,\u001b[0m \u001b[0mreplace\u001b[0m\u001b[1;33m=\u001b[0m\u001b[0mreplace\u001b[0m\u001b[1;33m,\u001b[0m \u001b[0mp\u001b[0m\u001b[1;33m=\u001b[0m\u001b[0mweights\u001b[0m\u001b[1;33m)\u001b[0m\u001b[1;33m\u001b[0m\u001b[1;33m\u001b[0m\u001b[0m\n\u001b[0m\u001b[0;32m   5351\u001b[0m         \u001b[1;32mreturn\u001b[0m \u001b[0mself\u001b[0m\u001b[1;33m.\u001b[0m\u001b[0mtake\u001b[0m\u001b[1;33m(\u001b[0m\u001b[0mlocs\u001b[0m\u001b[1;33m,\u001b[0m \u001b[0maxis\u001b[0m\u001b[1;33m=\u001b[0m\u001b[0maxis\u001b[0m\u001b[1;33m)\u001b[0m\u001b[1;33m\u001b[0m\u001b[1;33m\u001b[0m\u001b[0m\n\u001b[0;32m   5352\u001b[0m \u001b[1;33m\u001b[0m\u001b[0m\n",
      "\u001b[1;32mmtrand.pyx\u001b[0m in \u001b[0;36mnumpy.random.mtrand.RandomState.choice\u001b[1;34m()\u001b[0m\n",
      "\u001b[1;31mValueError\u001b[0m: a must be greater than 0 unless no samples are taken"
     ]
    }
   ],
   "source": [
    "if(targetNulls.value == 'No'):\n",
    "    database['RainTomorrow'] = [1 if i=='Yes' else 0 for i in database['RainTomorrow'] ]\n",
    "elif(targetNulls.value == 'Yes'):\n",
    "    database['RainTomorrow']=[0 if i=='No' else 1 for i in database['RainTomorrow'] ]\n",
    "else:\n",
    "    database = database.dropna(axis=0, subset=['RainTomorrow'])\n",
    "    \n",
    "cols_to_drop=['Date']\n",
    "database.drop(columns=cols_to_drop,inplace=True)\n",
    "\n",
    "x=database.drop(['RainTomorrow'],axis=1)\n",
    "y=database['RainTomorrow']\n",
    "\n",
    "count_class_0, count_class_1 = database.RainTomorrow.value_counts()\n",
    "if(balance.value == 'Oversampling'):\n",
    "    df_class_0 = database[database['RainTomorrow'] == \"No\"]\n",
    "    df_class_1 = database[database['RainTomorrow'] == \"Yes\"]\n",
    "    \n",
    "    df_class_1_over = df_class_1.sample(count_class_0, replace=True)\n",
    "    database = pd.concat([df_class_0, df_class_1_over], axis=0)\n",
    "    \n",
    "elif(balance.value == 'Subsampling'):\n",
    "    df_class_0 = database[database['RainTomorrow'] == \"No\"]\n",
    "    df_class_1 = database[database['RainTomorrow'] == \"Yes\"]\n",
    "\n",
    "    df_class_0_under = df_class_0.sample(count_class_1)\n",
    "    database = pd.concat([df_class_0_under, df_class_1], axis=0)\n",
    "\n",
    "database['RainTomorrow'] = [1 if i=='Yes' else 0 for i in database['RainTomorrow'] ]\n",
    "\n",
    "categorical_cols = list(x.select_dtypes(include=['object']).columns)\n",
    "continuous_cols = list(x.select_dtypes(include=['float64']).columns)\n",
    "\n",
    "for i in categorical_cols:\n",
    "    x[i].fillna(x[i].mode()[0], inplace=True)\n",
    "\n",
    "if(targetNulls.value == 'Mode'):\n",
    "    for column in continuous_cols:\n",
    "        x[column].fillna(x[column].mode()[0], inplace = True)\n",
    "\n",
    "elif(targetNulls.value == 'Median'):\n",
    "\n",
    "    for column in continuous_cols:\n",
    "        x[column].fillna(x[column].median(), inplace = True)\n",
    "else:\n",
    "    for column in continuous_cols:\n",
    "        x[column].fillna(x[column].mean(), inplace = True)\n",
    "\n",
    "transformer = ColumnTransformer(transformers=[('ohe', OneHotEncoder(sparse='False',drop='first'), categorical_cols)],remainder='passthrough')\n",
    "x=transformer.fit_transform(x)\n",
    "\n",
    "if balance.value == 'Oversampling Smote':\n",
    "    smote=SMOTE()\n",
    "    x,y=smote.fit_resample(x,y)\n",
    "\n",
    "    print(x.shape,y.shape)\n",
    "    \n",
    "x=pd.DataFrame(x.toarray())\n",
    "\n",
    "def check_skewness(x):\n",
    "    \n",
    "    skew_limit=0.75\n",
    "    skew_value=x[x.columns].skew()\n",
    "    skew_cols=skew_value[abs(skew_value)>skew_limit]\n",
    "    #print(skew_cols)\n",
    "    cols=skew_cols.index\n",
    "    return cols\n",
    "    \n",
    "skewed_col=check_skewness(x)\n",
    "pt=PowerTransformer(standardize=False)\n",
    "x[skewed_col]=pt.fit_transform(x[skewed_col])\n",
    "X_train, X_test, y_train, y_test = train_test_split(x, y, test_size=0.2, random_state=42)\n",
    "sc=StandardScaler(with_mean=False)\n",
    "sc=sc.fit(X_train)\n",
    "X_train=sc.transform(X_train)\n",
    "X_test=sc.transform(X_test)\n",
    "\n",
    "print(\"Opcio,s escollides:\")\n",
    "print(\"--------------------------------------\")\n",
    "print(\"Target NUllS :\", targetNulls.value)\n",
    "print(\"Balance :\", balance.value)\n",
    "print(\"Dades continues Nulls:\", atributeNulls.value)\n",
    "\n",
    "\n",
    "\n",
    "rf=RandomForestClassifier(n_estimators= 50, max_samples= 0.3, max_features='log2', criterion= 'gini', bootstrap= False)\n",
    "rf.fit(X_train,y_train)\n",
    "print(\"Model entrenat\")"
   ]
  },
  {
   "cell_type": "code",
   "execution_count": null,
   "id": "c0bbce57",
   "metadata": {},
   "outputs": [],
   "source": []
  }
 ],
 "metadata": {
  "kernelspec": {
   "display_name": "Python 3",
   "language": "python",
   "name": "python3"
  },
  "language_info": {
   "codemirror_mode": {
    "name": "ipython",
    "version": 3
   },
   "file_extension": ".py",
   "mimetype": "text/x-python",
   "name": "python",
   "nbconvert_exporter": "python",
   "pygments_lexer": "ipython3",
   "version": "3.8.8"
  }
 },
 "nbformat": 4,
 "nbformat_minor": 5
}
