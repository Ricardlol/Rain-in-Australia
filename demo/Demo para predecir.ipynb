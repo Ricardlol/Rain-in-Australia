{
 "cells": [
  {
   "cell_type": "code",
   "execution_count": 94,
   "id": "564a6a42",
   "metadata": {},
   "outputs": [],
   "source": [
    "import numpy as np\n",
    "import pandas as pd\n",
    "from matplotlib import pyplot as plt\n",
    "import ipywidgets as widgets\n",
    "import plotly.express as px\n",
    "\n",
    "from sklearn.compose import ColumnTransformer\n",
    "from sklearn.neighbors import KNeighborsClassifier\n",
    "from sklearn.svm import SVC\n",
    "from sklearn.preprocessing import OneHotEncoder\n",
    "from sklearn.preprocessing import PowerTransformer\n",
    "from sklearn.ensemble import RandomForestClassifier, StackingClassifier\n",
    "from sklearn.linear_model import LogisticRegression\n",
    "from sklearn.metrics import confusion_matrix, accuracy_score, f1_score, precision_recall_curve, average_precision_score, \\\n",
    "    roc_auc_score, roc_curve, auc, recall_score, precision_score\n",
    "from sklearn.model_selection import train_test_split, cross_val_score, RandomizedSearchCV\n",
    "from sklearn.preprocessing import StandardScaler\n",
    "from sklearn.tree import DecisionTreeClassifier\n",
    "\n",
    "import seaborn as sns\n",
    "import scipy.stats\n",
    "from scipy import stats\n",
    "from imblearn.over_sampling import SMOTE\n",
    "from imblearn.under_sampling import TomekLinks\n",
    "from xgboost import XGBClassifier\n",
    "\n",
    "import time\n",
    "\n",
    "pd.set_option(\"display.max_columns\", None)\n",
    "\n",
    "database = pd.read_csv('../data/weatherAUS.csv')"
   ]
  },
  {
   "cell_type": "code",
   "execution_count": 2,
   "id": "b3a76d59",
   "metadata": {},
   "outputs": [
    {
     "name": "stdout",
     "output_type": "stream",
     "text": [
      "Tractament del target (nulls)\n"
     ]
    },
    {
     "data": {
      "application/vnd.jupyter.widget-view+json": {
       "model_id": "901b46dafea048568e550d68677140ee",
       "version_major": 2,
       "version_minor": 0
      },
      "text/plain": [
       "ToggleButtons(description='Optios:', options=('No', 'Yes', 'Delete'), tooltips=('No', 'Yes', 'Delete'), value=…"
      ]
     },
     "metadata": {},
     "output_type": "display_data"
    }
   ],
   "source": [
    "targetNulls = widgets.ToggleButtons(\n",
    "    options=['No', 'Yes', 'Delete'],\n",
    "    description='Optios:',\n",
    "    disabled=False,\n",
    "    tooltips=['No', 'Yes', 'Delete']\n",
    ")\n",
    "print(\"Tractament del target (nulls)\")\n",
    "targetNulls"
   ]
  },
  {
   "cell_type": "code",
   "execution_count": 3,
   "id": "f04ad856",
   "metadata": {},
   "outputs": [
    {
     "name": "stdout",
     "output_type": "stream",
     "text": [
      "Balanceig de les dades\n"
     ]
    },
    {
     "data": {
      "application/vnd.jupyter.widget-view+json": {
       "model_id": "f07ef2f60c5740aa8c1e2e9c5ae9bbc3",
       "version_major": 2,
       "version_minor": 0
      },
      "text/plain": [
       "ToggleButtons(description='Optios:', options=('Oversampling', 'Oversampling Smote', 'Subsampling', 'None'), to…"
      ]
     },
     "metadata": {},
     "output_type": "display_data"
    }
   ],
   "source": [
    "balance = widgets.ToggleButtons(\n",
    "    options=['Oversampling', 'Oversampling Smote' ,'Subsampling','None'],\n",
    "    description='Optios:',\n",
    "    disabled=False,\n",
    "    tooltips=['Oversampling', 'Oversampling Smote' ,'Subsampling', 'None']\n",
    ")\n",
    "print(\"Balanceig de les dades\")\n",
    "balance"
   ]
  },
  {
   "cell_type": "code",
   "execution_count": 4,
   "id": "e20bddab",
   "metadata": {},
   "outputs": [
    {
     "name": "stdout",
     "output_type": "stream",
     "text": [
      "Tractament de les dades continues\n"
     ]
    },
    {
     "data": {
      "application/vnd.jupyter.widget-view+json": {
       "model_id": "e25207a2a3bd4e0da55edd205c7d7ade",
       "version_major": 2,
       "version_minor": 0
      },
      "text/plain": [
       "ToggleButtons(description='Optios:', options=('Mode', 'Median', 'Mean'), tooltips=('Mode', 'Median', 'Mean'), …"
      ]
     },
     "metadata": {},
     "output_type": "display_data"
    }
   ],
   "source": [
    "atributeNulls = widgets.ToggleButtons(\n",
    "    options=['Mode', 'Median', 'Mean'],\n",
    "    description='Optios:',\n",
    "    disabled=False,\n",
    "    tooltips=['Mode', 'Median', 'Mean']\n",
    ")\n",
    "print(\"Tractament de les dades continues\")\n",
    "display(atributeNulls)"
   ]
  },
  {
   "cell_type": "code",
   "execution_count": 95,
   "id": "44564483",
   "metadata": {},
   "outputs": [
    {
     "name": "stdout",
     "output_type": "stream",
     "text": [
      "113583\n",
      "(181732, 16)\n",
      "Opcio,s escollides:\n",
      "--------------------------------------\n",
      "Target NUllS : No\n",
      "Balance : Oversampling\n",
      "Dades continues Nulls: Mode\n",
      "Model entrenat\n"
     ]
    }
   ],
   "source": [
    "if(targetNulls.value == 'No'):\n",
    "    database['RainTomorrow'] = [1 if i=='Yes' else 0 for i in database['RainTomorrow'] ]\n",
    "elif(targetNulls.value == 'Yes'):\n",
    "    database['RainTomorrow']=[0 if i=='No' else 1 for i in database['RainTomorrow'] ]\n",
    "else:\n",
    "    database = database.dropna(axis=0, subset=['RainTomorrow'])\n",
    "    \n",
    "cols_to_drop=['Date']\n",
    "database.drop(columns=cols_to_drop,inplace=True)\n",
    "\n",
    "count_class_0, count_class_1 = database.RainTomorrow.value_counts()\n",
    "print(count_class_0)\n",
    "if(balance.value == 'Oversampling'):\n",
    "    df_class_0 = database[database['RainTomorrow'] == 0]\n",
    "    df_class_1 = database[database['RainTomorrow'] == 1]\n",
    "    \n",
    "    df_class_1_over = df_class_1.sample(count_class_0, replace=True)\n",
    "    database = pd.concat([df_class_0, df_class_1_over], axis=0)\n",
    "    \n",
    "elif(balance.value == 'Subsampling'):\n",
    "    df_class_0 = database[database['RainTomorrow'] == 0]\n",
    "    df_class_1 = database[database['RainTomorrow'] == 1]\n",
    "\n",
    "    df_class_0_under = df_class_0.sample(count_class_1)\n",
    "    database = pd.concat([df_class_0_under, df_class_1], axis=0)\n",
    "\n",
    "database['RainTomorrow'] = [1 if i=='Yes' else 0 for i in database['RainTomorrow'] ]\n",
    "\n",
    "x=database.drop(['RainTomorrow'],axis=1)\n",
    "y=database['RainTomorrow']\n",
    "\n",
    "categorical_cols = list(x.select_dtypes(include=['object']).columns)\n",
    "continuous_cols = list(x.select_dtypes(include=['float64']).columns)\n",
    "\n",
    "for i in categorical_cols:\n",
    "    x[i].fillna(x[i].mode()[0], inplace=True)\n",
    "\n",
    "categorical_cols = list(x.select_dtypes(include=['object']).columns)\n",
    "x.drop(columns=categorical_cols,inplace=True)\n",
    "\n",
    "if(targetNulls.value == 'Mode'):\n",
    "    for column in continuous_cols:\n",
    "        x[column].fillna(x[column].mode()[0], inplace = True)\n",
    "\n",
    "elif(targetNulls.value == 'Median'):\n",
    "\n",
    "    for column in continuous_cols:\n",
    "        x[column].fillna(x[column].median(), inplace = True)\n",
    "else:\n",
    "    for column in continuous_cols:\n",
    "        x[column].fillna(x[column].mean(), inplace = True)\n",
    "\n",
    "# transformer = ColumnTransformer(transformers=[('ohe', OneHotEncoder(sparse='False',drop='first'), categorical_cols)],remainder='passthrough')\n",
    "# x=transformer.fit_transform(x)\n",
    "\n",
    "if balance.value == 'Oversampling Smote':\n",
    "    smote=SMOTE()\n",
    "    x,y=smote.fit_resample(x,y)\n",
    "\n",
    "    print(x.shape,y.shape)\n",
    "    \n",
    "# x=pd.DataFrame(x.toarray())\n",
    "\n",
    "def check_skewness(x):\n",
    "    \n",
    "    skew_limit=0.75\n",
    "    skew_value=x[x.columns].skew()\n",
    "    skew_cols=skew_value[abs(skew_value)>skew_limit]\n",
    "    #print(skew_cols)\n",
    "    cols=skew_cols.index\n",
    "    return cols\n",
    "    \n",
    "skewed_col=check_skewness(x)\n",
    "pt=PowerTransformer(standardize=False)\n",
    "x[skewed_col]=pt.fit_transform(x[skewed_col])\n",
    "X_train, X_test, y_train, y_test = train_test_split(x, y, test_size=0.2, random_state=42)\n",
    "print(X_train.shape)\n",
    "sc=StandardScaler(with_mean=False)\n",
    "sc=sc.fit(X_train)\n",
    "X_train=sc.transform(X_train)\n",
    "X_test=sc.transform(X_test)\n",
    "\n",
    "print(\"Opcio,s escollides:\")\n",
    "print(\"--------------------------------------\")\n",
    "print(\"Target NUllS :\", targetNulls.value)\n",
    "print(\"Balance :\", balance.value)\n",
    "print(\"Dades continues Nulls:\", atributeNulls.value)\n",
    "\n",
    "\n",
    "\n",
    "rf=RandomForestClassifier(n_estimators= 50, max_samples= 0.3, max_features='log2', criterion= 'gini', bootstrap= False)\n",
    "rf.fit(X_train,y_train)\n",
    "print(\"Model entrenat\")"
   ]
  },
  {
   "cell_type": "markdown",
   "id": "caefb09f",
   "metadata": {},
   "source": [
    "### Entra els valors per predir si ploura dema o no"
   ]
  },
  {
   "cell_type": "code",
   "execution_count": 9,
   "id": "52a7868b",
   "metadata": {},
   "outputs": [],
   "source": [
    "database2 = pd.read_csv('../data/weatherAUS.csv');\n",
    "database = pd.read_csv('../data/weatherAUS.csv')\n",
    "database2 = database2.dropna()"
   ]
  },
  {
   "cell_type": "code",
   "execution_count": 10,
   "id": "7a13ac4b",
   "metadata": {},
   "outputs": [
    {
     "name": "stdout",
     "output_type": "stream",
     "text": [
      "Tractament de les dades continues\n"
     ]
    },
    {
     "data": {
      "application/vnd.jupyter.widget-view+json": {
       "model_id": "c382be14d5d1404d9e8a19dfa84bea8b",
       "version_major": 2,
       "version_minor": 0
      },
      "text/plain": [
       "ToggleButtons(description='Options:', options=('Albury', 'BadgerysCreek', 'Cobar', 'CoffsHarbour', 'Moree', 'N…"
      ]
     },
     "metadata": {},
     "output_type": "display_data"
    }
   ],
   "source": [
    "locations = database.Location.unique()\n",
    "loc = widgets.ToggleButtons(\n",
    "    options=locations,\n",
    "    description='Options:',\n",
    "    disabled=False,\n",
    ")\n",
    "print(\"Tractament de les dades continues\")\n",
    "display(loc)"
   ]
  },
  {
   "cell_type": "code",
   "execution_count": 11,
   "id": "80bd8cf4",
   "metadata": {},
   "outputs": [
    {
     "name": "stdout",
     "output_type": "stream",
     "text": [
      "Temperatura minima (celsius):\n"
     ]
    },
    {
     "data": {
      "application/vnd.jupyter.widget-view+json": {
       "model_id": "7c7ca056ecf64c7d89df2c45fad1dcb6",
       "version_major": 2,
       "version_minor": 0
      },
      "text/plain": [
       "FloatSlider(value=0.0, description='Value:', readout_format='.1f')"
      ]
     },
     "metadata": {},
     "output_type": "display_data"
    }
   ],
   "source": [
    "minTemp = widgets.FloatSlider(\n",
    "    value=0,\n",
    "    description='Value:',\n",
    "    min=0,\n",
    "    step=0.1,\n",
    "    readout_format='.1f'\n",
    ")\n",
    "print(\"Temperatura minima (celsius):\")\n",
    "display(minTemp)"
   ]
  },
  {
   "cell_type": "code",
   "execution_count": 12,
   "id": "217755a2",
   "metadata": {},
   "outputs": [
    {
     "name": "stdout",
     "output_type": "stream",
     "text": [
      "Temperatura maxima (celsius):\n"
     ]
    },
    {
     "data": {
      "application/vnd.jupyter.widget-view+json": {
       "model_id": "b96efd7793ce4debace1ac9b788dcd9f",
       "version_major": 2,
       "version_minor": 0
      },
      "text/plain": [
       "FloatSlider(value=0.0, description='Value:', min=-4.8, readout_format='.1f')"
      ]
     },
     "metadata": {},
     "output_type": "display_data"
    }
   ],
   "source": [
    "maxTemp = widgets.FloatSlider(\n",
    "    value=0,\n",
    "    description='Value:',\n",
    "    min=database.MaxTemp.min(),\n",
    "    step=0.1,\n",
    "    readout_format='.1f'\n",
    ")\n",
    "print(\"Temperatura maxima (celsius):\")\n",
    "display(maxTemp)"
   ]
  },
  {
   "cell_type": "code",
   "execution_count": 15,
   "id": "72021be2",
   "metadata": {},
   "outputs": [
    {
     "name": "stdout",
     "output_type": "stream",
     "text": [
      "Rainfall (mm):\n"
     ]
    },
    {
     "data": {
      "application/vnd.jupyter.widget-view+json": {
       "model_id": "1405efd67ca14eec91a6b28c20d31381",
       "version_major": 2,
       "version_minor": 0
      },
      "text/plain": [
       "FloatSlider(value=0.0, description='Value:', max=500.0, readout_format='.1f')"
      ]
     },
     "metadata": {},
     "output_type": "display_data"
    }
   ],
   "source": [
    "raifall = widgets.FloatSlider(\n",
    "    value = 0,\n",
    "    description='Value:',\n",
    "    min = database.Rainfall.min(),\n",
    "    max = 500,\n",
    "    step=0.1,\n",
    "    readout_format='.1f'\n",
    ")\n",
    "print(\"Rainfall (mm):\")\n",
    "display(raifall)"
   ]
  },
  {
   "cell_type": "code",
   "execution_count": 50,
   "id": "aaff8780",
   "metadata": {},
   "outputs": [
    {
     "name": "stdout",
     "output_type": "stream",
     "text": [
      "evaporació (mm):\n"
     ]
    },
    {
     "data": {
      "application/vnd.jupyter.widget-view+json": {
       "model_id": "b3d3a3d8e8174bb89a360656540d7f2d",
       "version_major": 2,
       "version_minor": 0
      },
      "text/plain": [
       "FloatSlider(value=0.0, description='Value:', readout_format='.1f')"
      ]
     },
     "metadata": {},
     "output_type": "display_data"
    }
   ],
   "source": [
    "evaporation = widgets.FloatSlider(\n",
    "    value = 0,\n",
    "    description='Value:',\n",
    "    min = database.Evaporation.min(),\n",
    "    step=0.1,\n",
    "    readout_format='.1f'\n",
    ")\n",
    "print(\"evaporació (mm):\")\n",
    "display(evaporation)"
   ]
  },
  {
   "cell_type": "code",
   "execution_count": 98,
   "id": "c60b8265",
   "metadata": {},
   "outputs": [
    {
     "name": "stdout",
     "output_type": "stream",
     "text": [
      "num d'hores que va fer sol:\n"
     ]
    },
    {
     "data": {
      "application/vnd.jupyter.widget-view+json": {
       "model_id": "e9c54ab823fd4eefa1ce2275693dea2c",
       "version_major": 2,
       "version_minor": 0
      },
      "text/plain": [
       "FloatSlider(value=0.0, description='Value:', readout_format='.1f')"
      ]
     },
     "metadata": {},
     "output_type": "display_data"
    }
   ],
   "source": [
    "sunshine = widgets.FloatSlider(\n",
    "    value = 0,\n",
    "    description='Value:',\n",
    "    min = database.Sunshine.min(),\n",
    "    step=0.1,\n",
    "    readout_format='.1f'\n",
    ")\n",
    "print(\"num d'hores que va fer sol:\")\n",
    "display(sunshine)"
   ]
  },
  {
   "cell_type": "code",
   "execution_count": 16,
   "id": "51fadedd",
   "metadata": {},
   "outputs": [
    {
     "name": "stdout",
     "output_type": "stream",
     "text": [
      "Tractament de les dades continues\n"
     ]
    },
    {
     "data": {
      "application/vnd.jupyter.widget-view+json": {
       "model_id": "ebad8317d67e48269066c7967840cd1d",
       "version_major": 2,
       "version_minor": 0
      },
      "text/plain": [
       "ToggleButtons(description='Options:', options=('SSW', 'S', 'NNE', 'WNW', 'N', 'SE', 'ENE', 'NE', 'E', 'SW', 'W…"
      ]
     },
     "metadata": {},
     "output_type": "display_data"
    }
   ],
   "source": [
    "Wind = database2.WindGustDir.unique()\n",
    "wind = widgets.ToggleButtons(\n",
    "    options=Wind,\n",
    "    description='Options:',\n",
    "    disabled=False,\n",
    ")\n",
    "print(\"Tractament de les dades continues\")\n",
    "display(wind)"
   ]
  },
  {
   "cell_type": "code",
   "execution_count": 17,
   "id": "ca61e294",
   "metadata": {},
   "outputs": [
    {
     "name": "stdout",
     "output_type": "stream",
     "text": [
      "WindGustSpeed (km/h):\n"
     ]
    },
    {
     "data": {
      "application/vnd.jupyter.widget-view+json": {
       "model_id": "65087003f7dd48a084f7ee615b3c9b3d",
       "version_major": 2,
       "version_minor": 0
      },
      "text/plain": [
       "FloatSlider(value=6.0, description='Value:', max=150.0, min=6.0, readout_format='.1f', step=1.0)"
      ]
     },
     "metadata": {},
     "output_type": "display_data"
    }
   ],
   "source": [
    "windSpeed = widgets.FloatSlider(\n",
    "    value = 0,\n",
    "    description='Value:',\n",
    "    min = database.WindGustSpeed.min(),\n",
    "    max = 150,\n",
    "    step=1,\n",
    "    readout_format='.1f'\n",
    ")\n",
    "print(\"WindGustSpeed (km/h):\")\n",
    "display(windSpeed)"
   ]
  },
  {
   "cell_type": "code",
   "execution_count": 18,
   "id": "288d11a5",
   "metadata": {},
   "outputs": [
    {
     "name": "stdout",
     "output_type": "stream",
     "text": [
      "Tractament de les dades continues\n"
     ]
    },
    {
     "data": {
      "application/vnd.jupyter.widget-view+json": {
       "model_id": "02cbac4de62540b994c6a23a3bf5bf00",
       "version_major": 2,
       "version_minor": 0
      },
      "text/plain": [
       "ToggleButtons(description='Options:', options=('ENE', 'SSE', 'NNE', 'WNW', 'NW', 'N', 'S', 'SE', 'NE', 'W', 'S…"
      ]
     },
     "metadata": {},
     "output_type": "display_data"
    }
   ],
   "source": [
    "Wind9 = database2.WindDir9am.unique()\n",
    "wind9 = widgets.ToggleButtons(\n",
    "    options=Wind9,\n",
    "    description='Options:',\n",
    "    disabled=False,\n",
    ")\n",
    "print(\"Tractament de les dades continues\")\n",
    "display(wind9)"
   ]
  },
  {
   "cell_type": "code",
   "execution_count": 19,
   "id": "0abf522c",
   "metadata": {},
   "outputs": [
    {
     "name": "stdout",
     "output_type": "stream",
     "text": [
      "Tractament de les dades continues\n"
     ]
    },
    {
     "data": {
      "application/vnd.jupyter.widget-view+json": {
       "model_id": "d10f7c0c0e924db6909cacfbc3bcd477",
       "version_major": 2,
       "version_minor": 0
      },
      "text/plain": [
       "ToggleButtons(description='Options:', options=('ENE', 'SSE', 'NNE', 'WNW', 'NW', 'N', 'S', 'SE', 'NE', 'W', 'S…"
      ]
     },
     "metadata": {},
     "output_type": "display_data"
    }
   ],
   "source": [
    "Wind3 = database2.WindDir3am.unique()\n",
    "wind3 = widgets.ToggleButtons(\n",
    "    options=Wind3,\n",
    "    description='Options:',\n",
    "    disabled=False,\n",
    ")\n",
    "print(\"Tractament de les dades continues\")\n",
    "display(wind3)"
   ]
  },
  {
   "cell_type": "code",
   "execution_count": 22,
   "id": "8feafbd3",
   "metadata": {},
   "outputs": [
    {
     "name": "stdout",
     "output_type": "stream",
     "text": [
      "WindGustSpeed (km/h):\n"
     ]
    },
    {
     "data": {
      "application/vnd.jupyter.widget-view+json": {
       "model_id": "a95d0e9eba044755a718e0c7efc61da7",
       "version_major": 2,
       "version_minor": 0
      },
      "text/plain": [
       "FloatSlider(value=0.0, description='Value:', max=150.0, readout_format='.1f', step=1.0)"
      ]
     },
     "metadata": {},
     "output_type": "display_data"
    }
   ],
   "source": [
    "windSpeed9 = widgets.FloatSlider(\n",
    "    value = 0,\n",
    "    description='Value:',\n",
    "    min = database.WindSpeed9am.min(),\n",
    "    max = 150,\n",
    "    step=1,\n",
    "    readout_format='.1f'\n",
    ")\n",
    "print(\"WindGustSpeed (km/h):\")\n",
    "display(windSpeed9)"
   ]
  },
  {
   "cell_type": "code",
   "execution_count": 24,
   "id": "47c98ec3",
   "metadata": {},
   "outputs": [
    {
     "name": "stdout",
     "output_type": "stream",
     "text": [
      "WindGustSpeed (km/h):\n"
     ]
    },
    {
     "data": {
      "application/vnd.jupyter.widget-view+json": {
       "model_id": "b2a2a8adbc394931b7ddf526c6e112bf",
       "version_major": 2,
       "version_minor": 0
      },
      "text/plain": [
       "FloatSlider(value=0.0, description='Value:', max=150.0, readout_format='.1f', step=1.0)"
      ]
     },
     "metadata": {},
     "output_type": "display_data"
    }
   ],
   "source": [
    "windSpeed3 = widgets.FloatSlider(\n",
    "    value = 0,\n",
    "    description='Value:',\n",
    "    min = database.WindSpeed3pm.min(),\n",
    "    max = 150,\n",
    "    step=1,\n",
    "    readout_format='.1f'\n",
    ")\n",
    "print(\"WindGustSpeed (km/h):\")\n",
    "display(windSpeed3)"
   ]
  },
  {
   "cell_type": "code",
   "execution_count": 52,
   "id": "c34a5f12",
   "metadata": {},
   "outputs": [
    {
     "name": "stdout",
     "output_type": "stream",
     "text": [
      "humetat(tant per cent):\n"
     ]
    },
    {
     "data": {
      "application/vnd.jupyter.widget-view+json": {
       "model_id": "e2779ed901e6445cbab46a88a38434f9",
       "version_major": 2,
       "version_minor": 0
      },
      "text/plain": [
       "FloatSlider(value=0.0, description='Value:', max=150.0, readout_format='.1f', step=1.0)"
      ]
     },
     "metadata": {},
     "output_type": "display_data"
    }
   ],
   "source": [
    "humidity9 = widgets.FloatSlider(\n",
    "    value = 0,\n",
    "    description='Value:',\n",
    "    min = database.Humidity9am.min(),\n",
    "    max = 150,\n",
    "    step=1,\n",
    "    readout_format='.1f'\n",
    ")\n",
    "print(\"humetat 9am (tant per cent):\")\n",
    "display(humidity9)"
   ]
  },
  {
   "cell_type": "code",
   "execution_count": 54,
   "id": "920fb15d",
   "metadata": {},
   "outputs": [
    {
     "name": "stdout",
     "output_type": "stream",
     "text": [
      "humetat 3pm(tant per cent):\n"
     ]
    },
    {
     "data": {
      "application/vnd.jupyter.widget-view+json": {
       "model_id": "1187a4a786af4eb9b447a04a5c8a6af8",
       "version_major": 2,
       "version_minor": 0
      },
      "text/plain": [
       "FloatSlider(value=0.0, description='Value:', max=150.0, readout_format='.1f', step=1.0)"
      ]
     },
     "metadata": {},
     "output_type": "display_data"
    }
   ],
   "source": [
    "humidity3 = widgets.FloatSlider(\n",
    "    value = 0,\n",
    "    description='Value:',\n",
    "    min = database.Humidity3pm.min(),\n",
    "    max = 150,\n",
    "    step=1,\n",
    "    readout_format='.1f'\n",
    ")\n",
    "print(\"humetat 3pm(tant per cent):\")\n",
    "display(humidity3)"
   ]
  },
  {
   "cell_type": "code",
   "execution_count": 25,
   "id": "eda2a6d9",
   "metadata": {},
   "outputs": [
    {
     "name": "stdout",
     "output_type": "stream",
     "text": [
      "presion atmosfeica a las 9 (hpa):\n"
     ]
    },
    {
     "data": {
      "application/vnd.jupyter.widget-view+json": {
       "model_id": "48b775dafcac447298dc8386102f1a44",
       "version_major": 2,
       "version_minor": 0
      },
      "text/plain": [
       "FloatSlider(value=980.5, description='Value:', max=1041.0, min=980.5, readout_format='.1f', step=1.0)"
      ]
     },
     "metadata": {},
     "output_type": "display_data"
    }
   ],
   "source": [
    "pressure9am = widgets.FloatSlider(\n",
    "    value = 0,\n",
    "    description='Value:',\n",
    "    min = database.Pressure9am.min(),\n",
    "    max = database.Pressure9am.max(),\n",
    "    step=1,\n",
    "    readout_format='.1f'\n",
    ")\n",
    "print(\"presion atmosfeica a las 9 (hpa):\")\n",
    "display(pressure9am)"
   ]
  },
  {
   "cell_type": "code",
   "execution_count": 55,
   "id": "7d25ec5a",
   "metadata": {},
   "outputs": [
    {
     "name": "stdout",
     "output_type": "stream",
     "text": [
      "presion atmosfeica a las 3 (hpa):\n"
     ]
    },
    {
     "data": {
      "application/vnd.jupyter.widget-view+json": {
       "model_id": "ebebcbb10c4641d5be18818ffede1f16",
       "version_major": 2,
       "version_minor": 0
      },
      "text/plain": [
       "FloatSlider(value=980.5, description='Value:', max=1041.0, min=980.5, readout_format='.1f', step=1.0)"
      ]
     },
     "metadata": {},
     "output_type": "display_data"
    }
   ],
   "source": [
    "pressure3 = widgets.FloatSlider(\n",
    "    value = 0,\n",
    "    description='Value:',\n",
    "    min = database.Pressure3pm.min(),\n",
    "    max = database.Pressure3pm.max(),\n",
    "    step=1,\n",
    "    readout_format='.1f'\n",
    ")\n",
    "print(\"presion atmosfeica a las 3 (hpa):\")\n",
    "display(pressure3pm)"
   ]
  },
  {
   "cell_type": "code",
   "execution_count": 56,
   "id": "4f78b4ff",
   "metadata": {},
   "outputs": [
    {
     "name": "stdout",
     "output_type": "stream",
     "text": [
      "nuvols a les 9am (oktas):\n"
     ]
    },
    {
     "data": {
      "application/vnd.jupyter.widget-view+json": {
       "model_id": "83a62348b45e4dd98990b1a078166f17",
       "version_major": 2,
       "version_minor": 0
      },
      "text/plain": [
       "FloatSlider(value=0.0, description='Value:', readout_format='.1f', step=1.0)"
      ]
     },
     "metadata": {},
     "output_type": "display_data"
    }
   ],
   "source": [
    "cloud9 = widgets.FloatSlider(\n",
    "    value = 0,\n",
    "    description='Value:',\n",
    "    min = database.Cloud9am.min(),\n",
    "    step=1,\n",
    "    readout_format='.1f'\n",
    ")\n",
    "print(\"nuvols a les 9am (oktas):\")\n",
    "display(cloud9)"
   ]
  },
  {
   "cell_type": "code",
   "execution_count": 57,
   "id": "820cffe9",
   "metadata": {},
   "outputs": [
    {
     "name": "stdout",
     "output_type": "stream",
     "text": [
      "nuvols a les 9am (oktas):\n"
     ]
    },
    {
     "data": {
      "application/vnd.jupyter.widget-view+json": {
       "model_id": "c5eae551f73b447e82dc7d2af3cee496",
       "version_major": 2,
       "version_minor": 0
      },
      "text/plain": [
       "FloatSlider(value=0.0, description='Value:', readout_format='.1f', step=1.0)"
      ]
     },
     "metadata": {},
     "output_type": "display_data"
    }
   ],
   "source": [
    "cloud3 = widgets.FloatSlider(\n",
    "    value = 0,\n",
    "    description='Value:',\n",
    "    min = database.Cloud3pm.min(),\n",
    "    step=1,\n",
    "    readout_format='.1f'\n",
    ")\n",
    "print(\"nuvols a les 9am (oktas):\")\n",
    "display(cloud3)"
   ]
  },
  {
   "cell_type": "code",
   "execution_count": 27,
   "id": "41b4989e",
   "metadata": {},
   "outputs": [
    {
     "name": "stdout",
     "output_type": "stream",
     "text": [
      "Temperatura a les 9 (degrees C):\n"
     ]
    },
    {
     "data": {
      "application/vnd.jupyter.widget-view+json": {
       "model_id": "539e1878fc2e4d0a935ec48bbff2a3b0",
       "version_major": 2,
       "version_minor": 0
      },
      "text/plain": [
       "FloatSlider(value=0.0, description='Value:', min=-15.0, readout_format='.1f', step=1.0)"
      ]
     },
     "metadata": {},
     "output_type": "display_data"
    }
   ],
   "source": [
    "temp9 = widgets.FloatSlider(\n",
    "    value = 0,\n",
    "    description='Value:',\n",
    "    min = -15,\n",
    "    step=1,\n",
    "    readout_format='.1f'\n",
    ")\n",
    "print(\"Temperatura a les 9 (degrees C):\")\n",
    "display(temp9)"
   ]
  },
  {
   "cell_type": "code",
   "execution_count": 28,
   "id": "f994038e",
   "metadata": {},
   "outputs": [
    {
     "name": "stdout",
     "output_type": "stream",
     "text": [
      "Temperatura a les 3 (degrees C):\n"
     ]
    },
    {
     "data": {
      "application/vnd.jupyter.widget-view+json": {
       "model_id": "15bf77e9851b42d2b9d6caea15fa55d6",
       "version_major": 2,
       "version_minor": 0
      },
      "text/plain": [
       "FloatSlider(value=0.0, description='Value:', min=-15.0, readout_format='.1f', step=1.0)"
      ]
     },
     "metadata": {},
     "output_type": "display_data"
    }
   ],
   "source": [
    "temp3 = widgets.FloatSlider(\n",
    "    value = 0,\n",
    "    description='Value:',\n",
    "    min = -15,\n",
    "    step=1,\n",
    "    readout_format='.1f'\n",
    ")\n",
    "print(\"Temperatura a les 3 (degrees C):\")\n",
    "display(temp3)"
   ]
  },
  {
   "cell_type": "code",
   "execution_count": 30,
   "id": "0468438e",
   "metadata": {},
   "outputs": [
    {
     "name": "stdout",
     "output_type": "stream",
     "text": [
      "Va plourè ahir\n"
     ]
    },
    {
     "data": {
      "application/vnd.jupyter.widget-view+json": {
       "model_id": "fb21abfde9014d528739891d4bed92f7",
       "version_major": 2,
       "version_minor": 0
      },
      "text/plain": [
       "ToggleButtons(description='Options:', options=('No', 'Yes'), value='No')"
      ]
     },
     "metadata": {},
     "output_type": "display_data"
    }
   ],
   "source": [
    "Raintoday = database2.RainToday.unique()\n",
    "raintoday = widgets.ToggleButtons(\n",
    "    options=Raintoday,\n",
    "    description='Options:',\n",
    "    disabled=False,\n",
    ")\n",
    "print(\"Va plourè ahir\")\n",
    "display(raintoday)"
   ]
  },
  {
   "cell_type": "code",
   "execution_count": 108,
   "id": "3997e55e",
   "metadata": {},
   "outputs": [
    {
     "name": "stdout",
     "output_type": "stream",
     "text": [
      "No ploura\n"
     ]
    }
   ],
   "source": [
    "newcolumns = transformer.named_transformers_['ohe'].get_feature_names()\n",
    "values = [\n",
    "#     loc.value, \n",
    "    minTemp.value, \n",
    "    maxTemp.value, \n",
    "    raifall.value, \n",
    "    evaporation.value,\n",
    "    sunshine.value,\n",
    "#     wind.value, \n",
    "    windSpeed.value, \n",
    "#     wind9.value, \n",
    "#     wind3.value, \n",
    "    windSpeed9.value,\n",
    "    windSpeed3.value,\n",
    "    humidity9.value,\n",
    "    humidity3.value,\n",
    "    pressure9am.value, \n",
    "    pressure3pm.value, \n",
    "    cloud9.value,\n",
    "    cloud3.value,\n",
    "    temp9.value, \n",
    "    temp3.value, \n",
    "#     raintoday\n",
    "]\n",
    "\n",
    "values = np.array(values).reshape(1,-1)\n",
    "y_pred = rf.predict(values)\n",
    "y_pred[0]\n",
    "if y_pred[0] == 0:\n",
    "    print(\"No ploura\")\n",
    "else:\n",
    "    print(\"Si ploura\")\n"
   ]
  }
 ],
 "metadata": {
  "kernelspec": {
   "display_name": "Python 3",
   "language": "python",
   "name": "python3"
  },
  "language_info": {
   "codemirror_mode": {
    "name": "ipython",
    "version": 3
   },
   "file_extension": ".py",
   "mimetype": "text/x-python",
   "name": "python",
   "nbconvert_exporter": "python",
   "pygments_lexer": "ipython3",
   "version": "3.8.8"
  }
 },
 "nbformat": 4,
 "nbformat_minor": 5
}
