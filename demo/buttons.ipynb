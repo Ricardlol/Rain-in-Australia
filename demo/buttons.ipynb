{
 "cells": [
  {
   "cell_type": "markdown",
   "id": "247012a6",
   "metadata": {},
   "source": [
    "### Widget ToggleButtons Example"
   ]
  },
  {
   "cell_type": "code",
   "execution_count": 3,
   "id": "fd7ec120",
   "metadata": {},
   "outputs": [],
   "source": [
    "import ipywidgets as widgets\n",
    "import numpy as np\n",
    "import pandas as pd\n",
    "from matplotlib import pyplot as plt\n",
    "import seaborn as sns"
   ]
  },
  {
   "cell_type": "code",
   "execution_count": 4,
   "id": "d529efc5",
   "metadata": {},
   "outputs": [
    {
     "data": {
      "application/vnd.jupyter.widget-view+json": {
       "model_id": "ef944078042c4a98b920b695891a7210",
       "version_major": 2,
       "version_minor": 0
      },
      "text/plain": [
       "ToggleButtons(description='Optios:', options=('No', 'Yes', 'Delete'), tooltips=('No', 'Yes', 'Delete'), value=…"
      ]
     },
     "metadata": {},
     "output_type": "display_data"
    },
    {
     "name": "stdout",
     "output_type": "stream",
     "text": [
      "Opcio escollida: Yes\n",
      "0    110316\n",
      "1     35144\n",
      "Name: RainTomorrow, dtype: int64\n",
      "--------------------------------------\n",
      "Opcio escollida: No\n",
      "0    113583\n",
      "1     31877\n",
      "Name: RainTomorrow, dtype: int64\n",
      "--------------------------------------\n",
      "Opcio escollida: Delete\n",
      "No     110316\n",
      "Yes     31877\n",
      "Name: RainTomorrow, dtype: int64\n",
      "--------------------------------------\n"
     ]
    }
   ],
   "source": [
    "targetNulls = widgets.ToggleButtons(\n",
    "    options=['No', 'Yes', 'Delete'],\n",
    "    description='Optios:',\n",
    "    disabled=False,\n",
    "    tooltips=['No', 'Yes', 'Delete']\n",
    ")\n",
    "display(targetNulls)\n",
    "    \n",
    "def changeValues(obj):\n",
    "    database = pd.read_csv('../data/weatherAUS.csv')\n",
    "    if(targetNulls.value == 'No'):\n",
    "        database['RainTomorrow'] = [1 if i=='Yes' else 0 for i in database['RainTomorrow'] ]\n",
    "    elif(targetNulls.value == 'Yes'):\n",
    "        database['RainTomorrow']=[0 if i=='No' else 1 for i in database['RainTomorrow'] ]\n",
    "    else:\n",
    "        database = database.dropna(axis=0, subset=['RainTomorrow'])\n",
    "    print(\"Opcio escollida:\", targetNulls.value)\n",
    "    print(database['RainTomorrow'].value_counts())\n",
    "    print(\"--------------------------------------\")\n",
    "        \n",
    "targetNulls.observe(changeValues, 'value')\n"
   ]
  },
  {
   "cell_type": "code",
   "execution_count": null,
   "id": "49b3307c",
   "metadata": {},
   "outputs": [],
   "source": []
  }
 ],
 "metadata": {
  "kernelspec": {
   "display_name": "Python 3",
   "language": "python",
   "name": "python3"
  },
  "language_info": {
   "codemirror_mode": {
    "name": "ipython",
    "version": 3
   },
   "file_extension": ".py",
   "mimetype": "text/x-python",
   "name": "python",
   "nbconvert_exporter": "python",
   "pygments_lexer": "ipython3",
   "version": "3.8.8"
  }
 },
 "nbformat": 4,
 "nbformat_minor": 5
}
