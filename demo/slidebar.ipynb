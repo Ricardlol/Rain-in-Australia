{
 "cells": [
  {
   "cell_type": "markdown",
   "id": "247012a6",
   "metadata": {},
   "source": [
    "### Widget Slider Example"
   ]
  },
  {
   "cell_type": "code",
   "execution_count": 3,
   "id": "fd7ec120",
   "metadata": {},
   "outputs": [],
   "source": [
    "import ipywidgets as widgets\n",
    "import numpy as np\n",
    "import pandas as pd\n",
    "from matplotlib import pyplot as plt\n",
    "import seaborn as sns"
   ]
  },
  {
   "cell_type": "code",
   "execution_count": 11,
   "id": "8b957ffe",
   "metadata": {},
   "outputs": [
    {
     "data": {
      "application/vnd.jupyter.widget-view+json": {
       "model_id": "de89215069614dde93b833304db0715d",
       "version_major": 2,
       "version_minor": 0
      },
      "text/plain": [
       "FloatSlider(value=0.2, description='Value:', max=1.0, readout_format='.1f')"
      ]
     },
     "metadata": {},
     "output_type": "display_data"
    },
    {
     "name": "stdout",
     "output_type": "stream",
     "text": [
      "0.3\n",
      "0.2\n",
      "0.1\n",
      "0.2\n",
      "0.3\n",
      "0.4\n",
      "0.5\n"
     ]
    }
   ],
   "source": [
    "slide = widgets.FloatSlider(\n",
    "    value=0.2,\n",
    "    description='Value:',\n",
    "    min=0,\n",
    "    max=1,\n",
    "    step=0.1,\n",
    "    readout_format='.1f'\n",
    ")\n",
    "display(slide)\n",
    "def changeValues(obj):\n",
    "    print(slide.value)\n",
    "    \n",
    "slide.observe(changeValues, 'value')"
   ]
  },
  {
   "cell_type": "code",
   "execution_count": null,
   "id": "e2548b93",
   "metadata": {},
   "outputs": [],
   "source": []
  }
 ],
 "metadata": {
  "kernelspec": {
   "display_name": "Python 3",
   "language": "python",
   "name": "python3"
  },
  "language_info": {
   "codemirror_mode": {
    "name": "ipython",
    "version": 3
   },
   "file_extension": ".py",
   "mimetype": "text/x-python",
   "name": "python",
   "nbconvert_exporter": "python",
   "pygments_lexer": "ipython3",
   "version": "3.8.8"
  }
 },
 "nbformat": 4,
 "nbformat_minor": 5
}
