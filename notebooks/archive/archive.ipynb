{
 "cells": [
  {
   "cell_type": "markdown",
   "id": "9f7b7326",
   "metadata": {},
   "source": [
    "### Rain in Australia\n",
    "Importacions de les llibrerias utilitzades"
   ]
  },
  {
   "cell_type": "code",
   "execution_count": null,
   "id": "c4e83920",
   "metadata": {},
   "outputs": [],
   "source": [
    "import numpy as np\n",
    "import pandas as pd\n",
    "from matplotlib import pyplot as plt\n",
    "import ipywidgets as widgets\n",
    "import plotly.express as px\n",
    "\n",
    "from sklearn.compose import ColumnTransformer\n",
    "from sklearn.neighbors import KNeighborsClassifier\n",
    "from sklearn.svm import SVC\n",
    "from sklearn.preprocessing import OneHotEncoder\n",
    "from sklearn.preprocessing import PowerTransformer\n",
    "from sklearn.ensemble import RandomForestClassifier, StackingClassifier\n",
    "from sklearn.linear_model import LogisticRegression\n",
    "from sklearn.metrics import confusion_matrix, accuracy_score, f1_score, precision_recall_curve, average_precision_score, \\\n",
    "    roc_auc_score, roc_curve, auc, recall_score, precision_score\n",
    "from sklearn.model_selection import train_test_split, cross_val_score, RandomizedSearchCV\n",
    "from sklearn.preprocessing import StandardScaler\n",
    "from sklearn.feature_selection import SelectKBest, chi2, f_classif\n",
    "from sklearn.model_selection import KFold\n",
    "from sklearn.tree import DecisionTreeClassifier\n",
    "from sklearn.ensemble import BaggingClassifier\n",
    "from sklearn.preprocessing import PolynomialFeatures\n",
    "\n",
    "import seaborn as sns\n",
    "import scipy.stats\n",
    "from scipy import stats\n",
    "from imblearn.over_sampling import SMOTE\n",
    "from imblearn.under_sampling import TomekLinks\n",
    "from xgboost import XGBClassifier\n",
    "\n",
    "pd.set_option(\"display.max_columns\", None)\n"
   ]
  },
  {
   "cell_type": "code",
   "execution_count": null,
   "id": "46e6d0b6",
   "metadata": {},
   "outputs": [],
   "source": [
    "database = pd.read_csv('../../data/weatherAUS.csv')\n",
    "\n",
    "database.info()"
   ]
  },
  {
   "cell_type": "code",
   "execution_count": null,
   "id": "e3ea9801",
   "metadata": {},
   "outputs": [],
   "source": [
    "database.head()"
   ]
  },
  {
   "cell_type": "code",
   "execution_count": null,
   "id": "fd1f9a80",
   "metadata": {},
   "outputs": [],
   "source": [
    "database.describe()"
   ]
  },
  {
   "cell_type": "code",
   "execution_count": null,
   "id": "4b992bab",
   "metadata": {},
   "outputs": [],
   "source": [
    "plt.figure(figsize=(10,5))\n",
    "sns.heatmap(database.isnull(), yticklabels = False, cbar=False, cmap='gray')"
   ]
  },
  {
   "attachments": {
    "nulls.png": {
     "image/png": "[encoded data removed]"
    }
   },
   "cell_type": "markdown",
   "id": "ca441adc",
   "metadata": {},
   "source": [
    "![nulls.png](attachment:nulls.png)"
   ]
  },
  {
   "cell_type": "code",
   "execution_count": null,
   "id": "ffe46184",
   "metadata": {},
   "outputs": [],
   "source": [
    "# Checking data for NaN\n",
    "missing = pd.DataFrame(database.isnull().sum().sort_values(ascending=False), columns=['No. of missing values'])\n",
    "missing['% missing_values'] = (missing/len(database)).round(2)*100\n",
    "missing"
   ]
  },
  {
   "cell_type": "code",
   "execution_count": null,
   "id": "f1c2659e",
   "metadata": {},
   "outputs": [],
   "source": [
    "database.duplicated().sum()"
   ]
  },
  {
   "cell_type": "code",
   "execution_count": null,
   "id": "c1967823",
   "metadata": {},
   "outputs": [],
   "source": [
    "database['RainTomorrow'].value_counts()"
   ]
  },
  {
   "cell_type": "code",
   "execution_count": null,
   "id": "4e64cdd8",
   "metadata": {},
   "outputs": [],
   "source": [
    "targetNulls = widgets.ToggleButtons(\n",
    "    options=['No', 'Yes', 'Delete'],\n",
    "    description='Optios:',\n",
    "    disabled=False,\n",
    "    tooltips=['No', 'Yes', 'Delete']\n",
    ")\n",
    "display(targetNulls)\n",
    "    \n",
    "def changeValues(obj):\n",
    "    database = pd.read_csv('../../data/weatherAUS.csv')\n",
    "    if(targetNulls.value == 'No'):\n",
    "        database['RainTomorrow'] = [1 if i=='Yes' else 0 for i in database['RainTomorrow'] ]\n",
    "    elif(targetNulls.value == 'Yes'):\n",
    "        database['RainTomorrow']=[0 if i=='No' else 1 for i in database['RainTomorrow'] ]\n",
    "    else:\n",
    "        database = database.dropna(axis=0, subset=['RainTomorrow'])\n",
    "    print(\"Opcio escollida:\", targetNulls.value)\n",
    "    print(database['RainTomorrow'].value_counts())\n",
    "    print(\"--------------------------------------\")\n",
    "    \n",
    "        \n",
    "targetNulls.observe(changeValues, 'value')\n",
    "cols_to_drop=['Date']\n",
    "database.drop(columns=cols_to_drop,inplace=True)"
   ]
  },
  {
   "cell_type": "code",
   "execution_count": null,
   "id": "f89e2f7b",
   "metadata": {},
   "outputs": [],
   "source": [
    "f, ax = plt.subplots(figsize=(6, 8))\n",
    "ax = sns.countplot(x=\"RainTomorrow\", data=database, palette=\"Set2\")\n",
    "plt.show()"
   ]
  },
  {
   "attachments": {
    "targetClass%28n%20Balance%29.png": {
     "image/png": "[encoded data removed]"
    }
   },
   "cell_type": "markdown",
   "id": "be4f709c",
   "metadata": {},
   "source": [
    "![targetClass%28n%20Balance%29.png](attachment:targetClass%28n%20Balance%29.png)"
   ]
  },
  {
   "cell_type": "code",
   "execution_count": null,
   "id": "9a48d8bf",
   "metadata": {},
   "outputs": [],
   "source": [
    "balance = widgets.ToggleButtons(\n",
    "    options=['Oversampling', 'Subsampling', 'None'],\n",
    "    description='Optios:',\n",
    "    disabled=False,\n",
    "    tooltips=['Oversampling', 'Subsampling', 'None']\n",
    ")\n",
    "print(\"Balanceig de les dades\")\n",
    "balance"
   ]
  },
  {
   "cell_type": "code",
   "execution_count": null,
   "id": "aaa7acb2",
   "metadata": {},
   "outputs": [],
   "source": [
    "count_class_0, count_class_1 = database.RainTomorrow.value_counts()\n",
    "if(balance.value == 'Oversampling'):\n",
    "    df_class_0 = database[database['RainTomorrow'] == \"No\"]\n",
    "    df_class_1 = database[database['RainTomorrow'] == \"Yes\"]\n",
    "    \n",
    "    df_class_1_over = df_class_1.sample(count_class_0, replace=True)\n",
    "    database = pd.concat([df_class_0, df_class_1_over], axis=0)\n",
    "    \n",
    "    \n",
    "elif(balance.value == 'Subsampling'):\n",
    "    df_class_0 = database[database['RainTomorrow'] == \"No\"]\n",
    "    df_class_1 = database[database['RainTomorrow'] == \"Yes\"]\n",
    "\n",
    "    df_class_0_under = df_class_0.sample(count_class_1)\n",
    "    database = pd.concat([df_class_0_under, df_class_1], axis=0)"
   ]
  },
  {
   "cell_type": "code",
   "execution_count": null,
   "id": "01f62c06",
   "metadata": {},
   "outputs": [],
   "source": [
    "f, ax = plt.subplots(figsize=(6, 8))\n",
    "ax = sns.countplot(x=\"RainTomorrow\", data=database, palette=\"Set2\")\n",
    "plt.show()"
   ]
  },
  {
   "cell_type": "code",
   "execution_count": null,
   "id": "f7e2c9bb",
   "metadata": {},
   "outputs": [],
   "source": [
    "x=database.drop(['RainTomorrow'],axis=1)\n",
    "y=database['RainTomorrow']\n",
    "print(x.shape,y.shape)"
   ]
  },
  {
   "cell_type": "code",
   "execution_count": null,
   "id": "32d190e3",
   "metadata": {
    "scrolled": false
   },
   "outputs": [],
   "source": [
    "categorical_cols = list(x.select_dtypes(include=['object']).columns)\n",
    "continuous_cols = list(x.select_dtypes(include=['float64']).columns)\n",
    "\n",
    "atributeNulls = widgets.ToggleButtons(\n",
    "    options=['Mode', 'Median', 'Mean'],\n",
    "    description='Optios:',\n",
    "    disabled=False,\n",
    "    tooltips=['Mode', 'Median', 'Mean']\n",
    ")\n",
    "display(atributeNulls)\n",
    "    \n",
    "def changeValues(obj):\n",
    "    x=database.drop(['RainTomorrow'],axis=1)\n",
    "    for i in categorical_cols:\n",
    "        x[i].fillna(x[i].mode()[0], inplace=True)\n",
    "        \n",
    "    if(targetNulls.value == 'Mode'):\n",
    "        for column in continuous_cols:\n",
    "            x[column].fillna(x[column].mode()[0], inplace = True)\n",
    "            \n",
    "    elif(targetNulls.value == 'Median'):\n",
    "        \n",
    "        for column in continuous_cols:\n",
    "            x[column].fillna(x[column].median(), inplace = True)\n",
    "    else:\n",
    "        for column in continuous_cols:\n",
    "            x[column].fillna(x[column].mean(), inplace = True)\n",
    "    print(\"Opcio escollida per als atribusc continues:\", atributeNulls.value)\n",
    "    print(\"--------------------------------------\")\n",
    "    \n",
    "        \n",
    "atributeNulls.observe(changeValues, 'value')"
   ]
  },
  {
   "cell_type": "code",
   "execution_count": null,
   "id": "885a5e86",
   "metadata": {},
   "outputs": [],
   "source": [
    "transformer = ColumnTransformer(transformers=[('ohe', OneHotEncoder(sparse='False',drop='first'), categorical_cols)],remainder='passthrough')\n",
    "x=transformer.fit_transform(x)"
   ]
  },
  {
   "cell_type": "code",
   "execution_count": null,
   "id": "9cdda4c5",
   "metadata": {},
   "outputs": [],
   "source": [
    "transformer.named_transformers_['ohe'].get_feature_names()"
   ]
  },
  {
   "cell_type": "code",
   "execution_count": null,
   "id": "1a0f7b49",
   "metadata": {},
   "outputs": [],
   "source": [
    "\n",
    "\n",
    "def check_skewness(x):\n",
    "    \n",
    "    skew_limit=0.75\n",
    "    skew_value=x[x.columns].skew()\n",
    "    skew_cols=skew_value[abs(skew_value)>skew_limit]\n",
    "    #print(skew_cols)\n",
    "    cols=skew_cols.index\n",
    "    return cols\n",
    "    \n",
    "skewed_col=check_skewness(x)\n",
    "print(skewed_col)\n",
    "pt=PowerTransformer(standardize=False)\n",
    "x[skewed_col]=pt.fit_transform(x[skewed_col])\n"
   ]
  },
  {
   "cell_type": "code",
   "execution_count": null,
   "id": "e1bdf35c",
   "metadata": {},
   "outputs": [],
   "source": [
    "plt.figure(figsize=(10,5))\n",
    "sns.heatmap(x.isnull(), yticklabels = False, cbar=False, cmap='gray')"
   ]
  },
  {
   "cell_type": "code",
   "execution_count": null,
   "id": "949ad2ba",
   "metadata": {
    "scrolled": false
   },
   "outputs": [],
   "source": [
    "X_train, X_test, y_train, y_test = train_test_split(x, y, test_size=0.2, random_state=42)"
   ]
  },
  {
   "cell_type": "code",
   "execution_count": null,
   "id": "97ae8b90",
   "metadata": {},
   "outputs": [],
   "source": [
    "print(X_train.shape)\n",
    "print(X_test.shape)\n",
    "print(y_train.shape)\n",
    "print(y_test.shape)"
   ]
  },
  {
   "cell_type": "code",
   "execution_count": null,
   "id": "9d3705ff",
   "metadata": {},
   "outputs": [],
   "source": [
    "from sklearn.preprocessing import StandardScaler\n",
    "\n",
    "sc=StandardScaler()\n",
    "X_train=sc.fit_transform(X_train)\n",
    "X_test=sc.transform(X_test)"
   ]
  },
  {
   "cell_type": "code",
   "execution_count": null,
   "id": "68a4aaed",
   "metadata": {},
   "outputs": [],
   "source": [
    "def evaluate(model):\n",
    "    print(model)\n",
    "    model.fit(X_train,y_train)\n",
    "    accuracy=model.score(X_test,y_test)\n",
    "    \n",
    "    print('model name ',model)\n",
    "    print('accuracy ',accuracy)\n",
    "\n",
    "lr=LogisticRegression()\n",
    "svm=SVC()\n",
    "dt=DecisionTreeClassifier(max_depth=6)\n",
    "rf=RandomForestClassifier(max_samples=0.9)\n",
    "knn=KNeighborsClassifier(n_neighbors=5)\n",
    "\n",
    "models=[lr,dt,rf,knn]\n",
    "\n",
    "for model in models:\n",
    "    evaluate(model)"
   ]
  },
  {
   "cell_type": "code",
   "execution_count": null,
   "id": "0dabbb4e",
   "metadata": {},
   "outputs": [],
   "source": []
  }
 ],
 "metadata": {
  "kernelspec": {
   "display_name": "Python 3",
   "language": "python",
   "name": "python3"
  },
  "language_info": {
   "codemirror_mode": {
    "name": "ipython",
    "version": 3
   },
   "file_extension": ".py",
   "mimetype": "text/x-python",
   "name": "python",
   "nbconvert_exporter": "python",
   "pygments_lexer": "ipython3",
   "version": "3.8.8"
  }
 },
 "nbformat": 4,
 "nbformat_minor": 5
}
